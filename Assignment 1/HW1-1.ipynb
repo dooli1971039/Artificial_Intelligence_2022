{
  "nbformat": 4,
  "nbformat_minor": 0,
  "metadata": {
    "colab": {
      "name": "HW1-1.ipynb",
      "provenance": [],
      "collapsed_sections": []
    },
    "kernelspec": {
      "name": "python3",
      "display_name": "Python 3"
    },
    "language_info": {
      "name": "python"
    },
    "accelerator": "GPU"
  },
  "cells": [
    {
      "cell_type": "markdown",
      "source": [
        "### 2022-1 Artificial Intelligence (01)\n",
        "## Homework #1: MLP from the scratch\n",
        "---\n",
        "Copyright (c) Prof. Jaehyeong Sim \n",
        "\n",
        "Department of Computer Science and Engineering\n",
        "\n",
        "Ewha Womans University"
      ],
      "metadata": {
        "id": "JJeY52mkwqe5"
      }
    },
    {
      "cell_type": "code",
      "source": [
        "# HW1-1\n",
        "# 컴퓨터공학과 1971039 이진경"
      ],
      "metadata": {
        "id": "hGQ5RlvMrTmP"
      },
      "execution_count": 9,
      "outputs": []
    },
    {
      "cell_type": "code",
      "source": [
        "import numpy as np"
      ],
      "metadata": {
        "id": "LOgtScJ6VfFi"
      },
      "execution_count": 10,
      "outputs": []
    },
    {
      "cell_type": "code",
      "source": [
        "# Sigmoid function\n",
        "def sigmoid(x):\n",
        "  # Problem 1.(a): fill here\n",
        "  return 1/(1+np.exp(-x))\n",
        "\n",
        "\n",
        "# Derivative of sigmoid function\n",
        "def dsigmoid(x):\n",
        "  # Problem 1.(a): fill here\n",
        "  return sigmoid(x)*(1-sigmoid(x))\n",
        "\n",
        "\n",
        "# Hyperbolic tangent function\n",
        "def tanh(x):\n",
        "  # Problem 1.(a): fill here\n",
        "  return np.tanh(x)\n",
        "\n",
        "\n",
        "# Derivative of hyperbolic tangent function\n",
        "def dtanh(x):\n",
        "  # Problem 1.(a): fill here\n",
        "  return 1 - (tanh(x)**2)"
      ],
      "metadata": {
        "id": "Hw2ul1L7Vg5c"
      },
      "execution_count": 11,
      "outputs": []
    },
    {
      "cell_type": "code",
      "source": [
        "# Mean squared error function\n",
        "#타깃과 출력값의 차이를 계산하는 함수\n",
        "def MSE(O, T):\n",
        "  # Problem 1.(b): fill here\n",
        "  return np.sum((O-T)**2)/len(O) \n",
        "\n",
        "\n",
        "# Derivative of hyperbolic tangent function\n",
        "def dMSE(O, T):\n",
        "  # Problem 1.(b): fill here\n",
        "  return O-T\n",
        "\n",
        "  "
      ],
      "metadata": {
        "id": "g0MG-Fl4IMd_"
      },
      "execution_count": 12,
      "outputs": []
    },
    {
      "cell_type": "code",
      "source": [
        "class MLP:\n",
        "\n",
        "  def __init__(self, learning_rate=0.01, n_epochs=5, n_inputs=2, n_hiddens=2, n_outputs=1):\n",
        "    self.lr = learning_rate\n",
        "    self.n_epochs = n_epochs\n",
        "    \n",
        "    self.n_inputs = n_inputs\n",
        "    self.n_hiddens = n_hiddens\n",
        "    self.n_outputs = n_outputs\n",
        "\n",
        "    self.first_layer_activation_func = tanh\n",
        "    self.first_layer_dactivation_func = dtanh\n",
        "    self.second_layer_activation_func = sigmoid\n",
        "    self.second_layer_dactivation_func = dsigmoid\n",
        "    self.loss_func = MSE\n",
        "    self.dloss_func = dMSE\n",
        "    self.first_layer_weights = None\n",
        "    self.first_layer_bias = None\n",
        "    self.second_layer_weights = None\n",
        "    self.second_layer_bias = None\n",
        "\n",
        "\n",
        "\n",
        "  def _init_params(self):\n",
        "    # Problem 1.(c): fill here\n",
        "    # 랜덤으로 초기화시키자\n",
        "    # W1: 2*2  B1: 2*1  W2: 1*2  B2: 1*1  #ppt 12쪽 참고\n",
        "    \n",
        "    np.random.seed(42)\n",
        "    self.first_layer_weights = np.random.rand(self.n_hiddens,self.n_inputs)  #2*2\n",
        "    self.first_layer_bias = np.random.rand(self.n_hiddens,1) #2*1\n",
        "    self.second_layer_weights = np.random.rand(self.n_outputs,self.n_hiddens)  #1*2\n",
        "    self.second_layer_bias = np.random.rand(self.n_outputs,1) #1*1\n",
        "\n",
        "\n",
        "\n",
        "\n",
        "# X는 input batch, T는 ground truth\n",
        "  def _forward(self, X, T): \n",
        "    # Problem 1.(d): fill here\n",
        "    W1=self.first_layer_weights\n",
        "    B1=self.first_layer_bias\n",
        "    W2=self.second_layer_weights\n",
        "    B2=self.second_layer_bias\n",
        "\n",
        "    #계산\n",
        "    Z1 = np.dot(W1,X)+B1\n",
        "    A1=self.first_layer_activation_func(Z1)\n",
        "\n",
        "    Z2=np.dot(W2,A1)+B2\n",
        "    A2=self.second_layer_activation_func(Z2)\n",
        "\n",
        "    if T is None: # predict()\n",
        "      return A2\n",
        "\n",
        "    else: # fit()\n",
        "      loss=self.loss_func(A2,T)\n",
        "      return Z1, A1, Z2, A2, loss\n",
        "\n",
        "\n",
        "  def _backward(self, X, Z1, A1, Z2, A2, T): \n",
        "    # Problem 1.(e): fill here\n",
        "    error2= np.multiply((A2-T),self.second_layer_dactivation_func(Z2))\n",
        "    dW2= np.dot(error2,A1.T)\n",
        "    dB2=np.sum(error2,axis=1)\n",
        "    #dB2=np.sum(error2).reshape(self.n_outputs,1)\n",
        "\n",
        "    error1=np.multiply(np.dot(self.second_layer_weights.T,error2), self.first_layer_dactivation_func(Z1))\n",
        "    dW1=np.dot(error1,X.T)\n",
        "    dB1=np.sum(error1,axis=1).reshape(self.n_hiddens,1)\n",
        "\n",
        "    return dW1, dB1, dW2, dB2\n",
        "\n",
        "\n",
        "  def predict(self, X):\n",
        "    return self._forward(X, None)\n",
        "\n",
        "\n",
        "  def fit(self, X, T):\n",
        "    \n",
        "    self._init_params()\n",
        "    #loss_trace = []\n",
        "\n",
        "    for i in range(self.n_epochs):\n",
        "      Z1, A1, Z2, A2, loss = self._forward(X, T)\n",
        "      dW1, dB1, dW2, dB2 = self._backward(X, Z1, A1, Z2, A2, T)\n",
        "      \n",
        "      # Problem 1.(f): fill here\n",
        "      self.first_layer_weights = self.first_layer_weights - self.lr * dW1\n",
        "      self.first_layer_bias = self.first_layer_bias - self.lr * dB1\n",
        "      self.second_layer_weights = self.second_layer_weights - self.lr * dW2\n",
        "      self.second_layer_bias = self.second_layer_bias - self.lr * dB2\n",
        "\n",
        "      loss_trace.append(loss)\n",
        "\n",
        "    return loss_trace"
      ],
      "metadata": {
        "id": "g8VxeUNJWUQi"
      },
      "execution_count": 13,
      "outputs": []
    },
    {
      "cell_type": "code",
      "source": [
        "# Problem 1.(g): fill here\n",
        "# XOR문제\n",
        "X = np.array([[0,0,1,1], [0,1,0,1]])\n",
        "y = np.array([0.0, 1.0, 1.0, 0.0])\n",
        "\n",
        "loss_trace = []\n",
        "mlp=MLP(learning_rate=0.02, n_epochs=100000)\n",
        "mlp.fit(X,y)\n"
      ],
      "metadata": {
        "id": "LrrU89LYg9Ch"
      },
      "execution_count": null,
      "outputs": []
    },
    {
      "cell_type": "code",
      "source": [
        "import matplotlib.pyplot as plt\n",
        "\n",
        "plt.plot(loss_trace)\n",
        "plt.ylabel('loss')\n",
        "plt.xlabel('epochs')\n",
        "plt.show()"
      ],
      "metadata": {
        "colab": {
          "base_uri": "https://localhost:8080/",
          "height": 278
        },
        "id": "HHn035KyleRt",
        "outputId": "e884f3d1-dc39-4d53-878c-98772e8850b8"
      },
      "execution_count": 15,
      "outputs": [
        {
          "output_type": "display_data",
          "data": {
            "text/plain": [
              "<Figure size 432x288 with 1 Axes>"
            ],
            "image/png": "[encoded data removed]"
          },
          "metadata": {
            "needs_background": "light"
          }
        }
      ]
    },
    {
      "cell_type": "code",
      "source": [
        "# Print out XOR outputs for an input matrix X\n",
        "print(mlp.predict(X))"
      ],
      "metadata": {
        "colab": {
          "base_uri": "https://localhost:8080/"
        },
        "id": "1vzx3NJTlodj",
        "outputId": "dc9046c8-4332-4a26-9471-9cd0c0a32d90"
      },
      "execution_count": 16,
      "outputs": [
        {
          "output_type": "stream",
          "name": "stdout",
          "text": [
            "[[0.01674103 0.98747772 0.98727683 0.017582  ]]\n"
          ]
        }
      ]
    }
  ]
}