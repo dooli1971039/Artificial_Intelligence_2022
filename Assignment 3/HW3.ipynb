{
  "cells": [
    {
      "cell_type": "code",
      "execution_count": 31,
      "metadata": {
        "id": "c99vZqnbXF9u"
      },
      "outputs": [],
      "source": [
        "import numpy as np\n",
        "\n",
        "import tensorflow_datasets as tfds\n",
        "import tensorflow as tf"
      ]
    },
    {
      "cell_type": "code",
      "execution_count": 32,
      "metadata": {
        "id": "h_QSequDYVBv"
      },
      "outputs": [],
      "source": [
        "import matplotlib.pyplot as plt\n",
        "\n",
        "def plot_graphs(history, metric):  # 그래프 그리는 함수(시각화)\n",
        "  plt.plot(history.history[metric])\n",
        "  plt.plot(history.history['val_'+metric], '')\n",
        "  plt.xlabel(\"Epochs\")\n",
        "  plt.ylabel(metric)\n",
        "  plt.legend([metric, 'val_'+metric])"
      ]
    },
    {
      "cell_type": "code",
      "execution_count": 34,
      "metadata": {
        "id": "AkgLs5O1YotF"
      },
      "outputs": [],
      "source": [
        "# dataset 로드\n",
        "# IMDB large movie review dataset은 긍정리뷰를 1로, 부정리뷰를 0으로 라벨링 해두었다.\n",
        "dataset, info = tfds.load('imdb_reviews', with_info = True, as_supervised=True)\n",
        "train_dataset, test_dataset = dataset['train'], dataset['test']"
      ]
    },
    {
      "cell_type": "code",
      "execution_count": 35,
      "metadata": {
        "id": "pf0EHQNHZCQR",
        "colab": {
          "base_uri": "https://localhost:8080/"
        },
        "outputId": "4a7e93f3-283b-4eff-c61a-0ae42047c24f"
      },
      "outputs": [
        {
          "output_type": "stream",
          "name": "stdout",
          "text": [
            "text:  b\"This was an absolutely terrible movie. Don't be lured in by Christopher Walken or Michael Ironside. Both are great actors, but this must simply be their worst role in history. Even their great acting could not redeem this movie's ridiculous storyline. This movie is an early nineties US propaganda piece. The most pathetic scenes were those when the Columbian rebels were making their cases for revolutions. Maria Conchita Alonso appeared phony, and her pseudo-love affair with Walken was nothing but a pathetic emotional plug in a movie that was devoid of any real meaning. I am disappointed that there are movies like this, ruining actor's like Christopher Walken's good name. I could barely sit through it.\"\n",
            "label:  0\n"
          ]
        }
      ],
      "source": [
        "for example, label in train_dataset.take(1):\n",
        "  print('text: ', example.numpy())\n",
        "  print('label: ', label.numpy())"
      ]
    },
    {
      "cell_type": "code",
      "execution_count": 36,
      "metadata": {
        "id": "myloxzrQaxlg"
      },
      "outputs": [],
      "source": [
        "BUFFER_SIZE = 10000  # 1 epoch 되는 데이터 수\n",
        "BATCH_SIZE = 64   # 1 step에서 사용되는 데이터 수"
      ]
    },
    {
      "cell_type": "code",
      "execution_count": 37,
      "metadata": {
        "id": "mx1HA4axa0rV"
      },
      "outputs": [],
      "source": [
        "# 훈련용 data를 섞는다.\n",
        "train_dataset = train_dataset.shuffle(BUFFER_SIZE).batch(BATCH_SIZE).prefetch(tf.data.AUTOTUNE)\n",
        "test_dataset = test_dataset.batch(BATCH_SIZE).prefetch(tf.data.AUTOTUNE)"
      ]
    },
    {
      "cell_type": "code",
      "execution_count": 38,
      "metadata": {
        "id": "xXDfQF2ua173",
        "colab": {
          "base_uri": "https://localhost:8080/"
        },
        "outputId": "6e3ca476-9122-45d7-bb60-b1603004fccf"
      },
      "outputs": [
        {
          "output_type": "stream",
          "name": "stdout",
          "text": [
            "texts:  [b\"After the opening credits, there's a black screen for about a minute. A minute of nothing, then a girl wakes up and takes a shower.Then her and two college friends are driving to a rock concert, after much padding, they hit something and skid off the road. They awaken in a cabin inhabited by a wheelchair-bound old lady and her offspring.The killings are sadly very tame for a supposed Video Nasty. The twist ending silly and predictable. No one involved in the mess would ever make anything of note again. So there are still happy endings sometimes.<br /><br />Eye Candy: Sara Ansley gets topless, and Laurel Munson has full frontal on display <br /><br />My Grade: D\"\n",
            " b'Gordon Parks, the prolific black Life magazine photographer, made a true ticking-timebomb of a movie here - one that does not mess around! Based upon the true story of two NYC cops - later dubbed Batman and Robin - who singlehandedly employed radical tactics to clean up their precinct neighborhood of drugs, this is a cop-buddy movie before that term became a repetitive formula. Lightning paced, there is not one unimportant throwaway scene here.<br /><br />Man, early \\'70s NYC must have been a terrible place to be a police officer, from the looks of movies like this and \"Serpico.\" These two cops start out as safety-division rookies, busting dealers in plainclothes in their spare time. But instead of receiving applause from the city police department, they receive nothing but resistance and antagonism from their peers. They have to singlehandedly navigate a minefield of police and legal corruption, boneheaded assignments meant to keep them from their work on the streets, ruthless drug kingpins, and a nasty ghetto neighborhood.<br /><br />Both David Selby and Ron Leibman are fantastic in the leads; part of the entertainment is watching Leibman\\'s eyes darting around crazily in every scene in what is a flawless comic performance, and Selby\\'s acting is low-key and wry. These two make all the comedy aspects of the story work - displaying a palpable frustration mixed with gutsy determination. Director Parks, who was already known for his coverage of controversial subjects in his photography, does not shy away from the grittiness of the story. Rather, the movie is uncompromising in portrayal of the toughness of the world of police and streets criminals that these two men inhabit. Adding to this realism is the fact that the real Hantz and Greenberg acted as technical advisors for the film, and even appear in surreal cameo roles as two fellow officers who ridicule the protagonists. It is a real tribute to the effectiveness of Parks\\' direction that he manages to perfectly balance this depressing mileu with bright comedy.<br /><br />Why has MGM/UA let this sit on the shelf for 30 years - barely giving it a home video or DVD release in the U.S? It is a minor masterpiece from the 1970s.'\n",
            " b\"I first saw this film around ten years ago and I thought it was very funny indeed. It was not as bad as some critics were making it out to be. The fact that it was written by the usually dependable John Hughes shows that you can at least expect some funny dialogue. (By the way, I also think Weird Science is quite good which was also penned in lightning speed by Hughes).<br /><br />The film has a very garish look to it using all the primary colours - reds, yellows etc - which makes it look quite unique. The cast are also quite good. The prudish Bunny Packard and the devil-possessed Delores Salk are a stand out.<br /><br />The film has certainly dated a little but I personally prefer it to all the other 'Lampoon' series.\"]\n",
            "\n",
            "labels:  [0 1 1]\n"
          ]
        }
      ],
      "source": [
        "for example, label in train_dataset.take(1):\n",
        "  print('texts: ', example.numpy()[:3])\n",
        "  print()\n",
        "  print('labels: ', label.numpy()[:3])"
      ]
    },
    {
      "cell_type": "code",
      "execution_count": 39,
      "metadata": {
        "id": "jVGNpR2EqIaA"
      },
      "outputs": [],
      "source": [
        "VOCAB_SIZE = 1000\n",
        "\n",
        "# TextVectorization 레이어를 통해 텍스트 전처리를 진행한다.\n",
        "# TextVectorizTION은 문자열 토큰과 정수 인덱스 간의 매핑을 가진다.\n",
        "tokenizer = tf.keras.layers.TextVectorization(\n",
        "    max_tokens=VOCAB_SIZE)\n",
        "\n",
        "# adapt는 layer의 어휘를 설정한다.\n",
        "tokenizer.adapt(train_dataset.map(lambda text, label: text))"
      ]
    },
    {
      "cell_type": "code",
      "execution_count": 40,
      "metadata": {
        "id": "8FpiSLmgqK2j",
        "colab": {
          "base_uri": "https://localhost:8080/"
        },
        "outputId": "4e2ad10c-c5d6-4975-fdab-f1be4604b0aa"
      },
      "outputs": [
        {
          "output_type": "execute_result",
          "data": {
            "text/plain": [
              "array(['', '[UNK]', 'the', 'and', 'a', 'of', 'to', 'is', 'in', 'it', 'i',\n",
              "       'this', 'that', 'br', 'was', 'as', 'for', 'with', 'movie', 'but'],\n",
              "      dtype='<U14')"
            ]
          },
          "metadata": {},
          "execution_count": 40
        }
      ],
      "source": [
        "# 패딩 및 알 수 없는 토큰 다음에 빈도별로 정렬된다.\n",
        "vocab = np.array(tokenizer.get_vocabulary())\n",
        "vocab[:20]"
      ]
    },
    {
      "cell_type": "code",
      "execution_count": 41,
      "metadata": {
        "id": "CeSz-A8MqMAF",
        "colab": {
          "base_uri": "https://localhost:8080/"
        },
        "outputId": "73580abf-1bc1-4ec4-9c1a-93a037b86995"
      },
      "outputs": [
        {
          "output_type": "execute_result",
          "data": {
            "text/plain": [
              "array([[101,   2, 615, ...,   0,   0,   0],\n",
              "       [  1,   1,   2, ...,   0,   0,   0],\n",
              "       [ 10,  86, 208, ...,   0,   0,   0]])"
            ]
          },
          "metadata": {},
          "execution_count": 41
        }
      ],
      "source": [
        "# 어휘가 설정이 되면, layer는 텍스트를 인덱스로 인코딩 할 수 있다.\n",
        "# 길이가 짧은 경우, 뒷 부분에 남는 부분은 0으로 채워진다.\n",
        "\n",
        "tokenized_example = tokenizer(example)[:3].numpy()\n",
        "tokenized_example"
      ]
    },
    {
      "cell_type": "code",
      "execution_count": 42,
      "metadata": {
        "id": "R3h21kIBqNEP",
        "colab": {
          "base_uri": "https://localhost:8080/"
        },
        "outputId": "5e5a7edb-517d-4c8c-b8f0-abde22d29360"
      },
      "outputs": [
        {
          "output_type": "stream",
          "name": "stdout",
          "text": [
            "Original:  b\"After the opening credits, there's a black screen for about a minute. A minute of nothing, then a girl wakes up and takes a shower.Then her and two college friends are driving to a rock concert, after much padding, they hit something and skid off the road. They awaken in a cabin inhabited by a wheelchair-bound old lady and her offspring.The killings are sadly very tame for a supposed Video Nasty. The twist ending silly and predictable. No one involved in the mess would ever make anything of note again. So there are still happy endings sometimes.<br /><br />Eye Candy: Sara Ansley gets topless, and Laurel Munson has full frontal on display <br /><br />My Grade: D\"\n",
            "Round-trip:  after the opening credits theres a black screen for about a minute a minute of nothing then a girl [UNK] up and takes a [UNK] her and two [UNK] friends are [UNK] to a rock [UNK] after much [UNK] they hit something and [UNK] off the [UNK] they [UNK] in a [UNK] [UNK] by a [UNK] old lady and her [UNK] [UNK] are [UNK] very [UNK] for a supposed video [UNK] the twist ending silly and predictable no one involved in the mess would ever make anything of note again so there are still happy [UNK] [UNK] br eye [UNK] [UNK] [UNK] gets [UNK] and [UNK] [UNK] has full [UNK] on [UNK] br br my [UNK] [UNK]                                                                                                                                                                                                                                                                                                                                                                                                                                                                                                                                                                                                                                                                                                                                                                                                                                                                                          \n",
            "\n",
            "Original:  b'Gordon Parks, the prolific black Life magazine photographer, made a true ticking-timebomb of a movie here - one that does not mess around! Based upon the true story of two NYC cops - later dubbed Batman and Robin - who singlehandedly employed radical tactics to clean up their precinct neighborhood of drugs, this is a cop-buddy movie before that term became a repetitive formula. Lightning paced, there is not one unimportant throwaway scene here.<br /><br />Man, early \\'70s NYC must have been a terrible place to be a police officer, from the looks of movies like this and \"Serpico.\" These two cops start out as safety-division rookies, busting dealers in plainclothes in their spare time. But instead of receiving applause from the city police department, they receive nothing but resistance and antagonism from their peers. They have to singlehandedly navigate a minefield of police and legal corruption, boneheaded assignments meant to keep them from their work on the streets, ruthless drug kingpins, and a nasty ghetto neighborhood.<br /><br />Both David Selby and Ron Leibman are fantastic in the leads; part of the entertainment is watching Leibman\\'s eyes darting around crazily in every scene in what is a flawless comic performance, and Selby\\'s acting is low-key and wry. These two make all the comedy aspects of the story work - displaying a palpable frustration mixed with gutsy determination. Director Parks, who was already known for his coverage of controversial subjects in his photography, does not shy away from the grittiness of the story. Rather, the movie is uncompromising in portrayal of the toughness of the world of police and streets criminals that these two men inhabit. Adding to this realism is the fact that the real Hantz and Greenberg acted as technical advisors for the film, and even appear in surreal cameo roles as two fellow officers who ridicule the protagonists. It is a real tribute to the effectiveness of Parks\\' direction that he manages to perfectly balance this depressing mileu with bright comedy.<br /><br />Why has MGM/UA let this sit on the shelf for 30 years - barely giving it a home video or DVD release in the U.S? It is a minor masterpiece from the 1970s.'\n",
            "Round-trip:  [UNK] [UNK] the [UNK] black life [UNK] [UNK] made a true [UNK] of a movie here one that does not mess around based upon the true story of two [UNK] [UNK] later [UNK] [UNK] and [UNK] who [UNK] [UNK] [UNK] [UNK] to [UNK] up their [UNK] [UNK] of [UNK] this is a [UNK] movie before that [UNK] became a [UNK] [UNK] [UNK] [UNK] there is not one [UNK] [UNK] scene [UNK] br man early 70s [UNK] must have been a terrible place to be a police [UNK] from the looks of movies like this and [UNK] these two [UNK] start out as [UNK] [UNK] [UNK] [UNK] in [UNK] in their [UNK] time but instead of [UNK] [UNK] from the city police [UNK] they [UNK] nothing but [UNK] and [UNK] from their [UNK] they have to [UNK] [UNK] a [UNK] of police and [UNK] [UNK] [UNK] [UNK] meant to keep them from their work on the [UNK] [UNK] [UNK] [UNK] and a [UNK] [UNK] [UNK] br both david [UNK] and [UNK] [UNK] are fantastic in the leads part of the entertainment is watching [UNK] eyes [UNK] around [UNK] in every scene in what is a [UNK] comic performance and [UNK] acting is [UNK] and [UNK] these two make all the comedy [UNK] of the story work [UNK] a [UNK] [UNK] [UNK] with [UNK] [UNK] director [UNK] who was already known for his [UNK] of [UNK] [UNK] in his [UNK] does not [UNK] away from the [UNK] of the story rather the movie is [UNK] in [UNK] of the [UNK] of the world of police and [UNK] [UNK] that these two men [UNK] [UNK] to this [UNK] is the fact that the real [UNK] and [UNK] [UNK] as [UNK] [UNK] for the film and even appear in [UNK] [UNK] roles as two [UNK] [UNK] who [UNK] the [UNK] it is a real [UNK] to the [UNK] of [UNK] direction that he manages to perfectly [UNK] this [UNK] [UNK] with [UNK] [UNK] br why has [UNK] let this sit on the [UNK] for [UNK] years [UNK] giving it a home video or dvd release in the us it is a [UNK] [UNK] from the [UNK]                                                                                                                                                                                                                                                                                                                                                                                                                                                                                                                                                                                                                                     \n",
            "\n",
            "Original:  b\"I first saw this film around ten years ago and I thought it was very funny indeed. It was not as bad as some critics were making it out to be. The fact that it was written by the usually dependable John Hughes shows that you can at least expect some funny dialogue. (By the way, I also think Weird Science is quite good which was also penned in lightning speed by Hughes).<br /><br />The film has a very garish look to it using all the primary colours - reds, yellows etc - which makes it look quite unique. The cast are also quite good. The prudish Bunny Packard and the devil-possessed Delores Salk are a stand out.<br /><br />The film has certainly dated a little but I personally prefer it to all the other 'Lampoon' series.\"\n",
            "Round-trip:  i first saw this film around ten years ago and i thought it was very funny indeed it was not as bad as some [UNK] were making it out to be the fact that it was written by the usually [UNK] john [UNK] shows that you can at least expect some funny dialogue by the way i also think weird [UNK] is quite good which was also [UNK] in [UNK] [UNK] by [UNK] br the film has a very [UNK] look to it using all the [UNK] [UNK] [UNK] [UNK] etc which makes it look quite unique the cast are also quite good the [UNK] [UNK] [UNK] and the [UNK] [UNK] [UNK] are a stand [UNK] br the film has certainly [UNK] a little but i [UNK] [UNK] it to all the other [UNK] series                                                                                                                                                                                                                                                                                                                                                                                                                                                                                                                                                                                                                                                                                                                                                                                                                                                                        \n",
            "\n"
          ]
        }
      ],
      "source": [
        "for n in range(3):\n",
        "  print(\"Original: \", example[n].numpy())\n",
        "  print(\"Round-trip: \", \" \".join(vocab[tokenized_example[n]]))\n",
        "  print()"
      ]
    },
    {
      "cell_type": "code",
      "execution_count": 43,
      "metadata": {
        "id": "hLkoDR6wqOXC"
      },
      "outputs": [],
      "source": [
        "# model 생성\n",
        "\n",
        "model = tf.keras.Sequential([\n",
        "    tokenizer, # 첫번째 층인 encoder는 text를 token index들로 바꾼다\n",
        "\n",
        "    #임베딩 레이어\n",
        "    #임베딩 레이어는 단어 하나당 하나의 벡터를 저장한다.\n",
        "    #호출 시, 단어 인덱스 시퀀스를 벡터 시퀀스로 변환한다.\n",
        "    #훈련 이후, 유사한 의미를 가지는 단어는 유사한 벡트를 가지게 된다.\n",
        "    tf.keras.layers.Embedding(\n",
        "        input_dim=len(tokenizer.get_vocabulary()),\n",
        "        output_dim=64,\n",
        "        mask_zero=True),\n",
        "\n",
        "    # 68개의 hidden unit을 가진 LSTM layer\n",
        "    tf.keras.layers.LSTM(64),\n",
        "\n",
        "    # 마지막 layer는 classification을 진행한다.\n",
        "    tf.keras.layers.Dense(64, activation='relu'),\n",
        "    tf.keras.layers.Dense(1)\n",
        "])"
      ]
    },
    {
      "cell_type": "code",
      "execution_count": 44,
      "metadata": {
        "id": "NVFUAbROqSCE",
        "colab": {
          "base_uri": "https://localhost:8080/"
        },
        "outputId": "f55e264d-dc8f-4a70-e002-bb75062d4fb1"
      },
      "outputs": [
        {
          "output_type": "stream",
          "name": "stdout",
          "text": [
            "[False, True, True, True, True]\n"
          ]
        }
      ],
      "source": [
        "print([layer.supports_masking for layer in model.layers])"
      ]
    },
    {
      "cell_type": "code",
      "execution_count": 45,
      "metadata": {
        "id": "MP_pptGXqTGH",
        "colab": {
          "base_uri": "https://localhost:8080/"
        },
        "outputId": "90c3de9c-c093-4c40-87a8-32f3f1e64bb6"
      },
      "outputs": [
        {
          "output_type": "stream",
          "name": "stdout",
          "text": [
            "[-0.00764967]\n"
          ]
        }
      ],
      "source": [
        "# predict on a sample text without padding.\n",
        "sample_text = ('The movie was cool. The animation and the graphics '\n",
        "               'were out of this world. I would recommend this movie.')\n",
        "predictions = model.predict(np.array([sample_text]))\n",
        "print(predictions[0])"
      ]
    },
    {
      "cell_type": "code",
      "execution_count": 46,
      "metadata": {
        "id": "-78BGTr4qUA1",
        "colab": {
          "base_uri": "https://localhost:8080/"
        },
        "outputId": "a006763f-8c80-4ea3-eb8c-e1268f36de93"
      },
      "outputs": [
        {
          "output_type": "stream",
          "name": "stdout",
          "text": [
            "[-0.00764967]\n"
          ]
        }
      ],
      "source": [
        "# predict on a sample text with padding -- 위의 cell과 결과가 동일하게 나와야 한다.\n",
        "padding = \"the \" * 2000\n",
        "predictions = model.predict(np.array([sample_text, padding]))\n",
        "print(predictions[0])"
      ]
    },
    {
      "cell_type": "code",
      "execution_count": 47,
      "metadata": {
        "id": "QJw84xD9qV2O"
      },
      "outputs": [],
      "source": [
        "# model 컴파일\n",
        "model.compile(loss=tf.keras.losses.BinaryCrossentropy(from_logits=True),\n",
        "              optimizer=tf.keras.optimizers.Adam(1e-4),\n",
        "              metrics=['accuracy'])"
      ]
    },
    {
      "cell_type": "code",
      "execution_count": 48,
      "metadata": {
        "id": "OQSRagx8qXZq",
        "colab": {
          "base_uri": "https://localhost:8080/"
        },
        "outputId": "5f65de1b-3bd9-4008-b915-49633303c4e5"
      },
      "outputs": [
        {
          "output_type": "stream",
          "name": "stdout",
          "text": [
            "Epoch 1/10\n",
            "391/391 [==============================] - 23s 48ms/step - loss: 0.6456 - accuracy: 0.5767 - val_loss: 0.6778 - val_accuracy: 0.6609\n",
            "Epoch 2/10\n",
            "391/391 [==============================] - 18s 45ms/step - loss: 0.5149 - accuracy: 0.7580 - val_loss: 0.4393 - val_accuracy: 0.7958\n",
            "Epoch 3/10\n",
            "391/391 [==============================] - 18s 45ms/step - loss: 0.3953 - accuracy: 0.8232 - val_loss: 0.3764 - val_accuracy: 0.8224\n",
            "Epoch 4/10\n",
            "391/391 [==============================] - 18s 46ms/step - loss: 0.3501 - accuracy: 0.8499 - val_loss: 0.3523 - val_accuracy: 0.8474\n",
            "Epoch 5/10\n",
            "391/391 [==============================] - 18s 45ms/step - loss: 0.3298 - accuracy: 0.8618 - val_loss: 0.3437 - val_accuracy: 0.8443\n",
            "Epoch 6/10\n",
            "391/391 [==============================] - 19s 46ms/step - loss: 0.3184 - accuracy: 0.8649 - val_loss: 0.3374 - val_accuracy: 0.8500\n",
            "Epoch 7/10\n",
            "391/391 [==============================] - 18s 45ms/step - loss: 0.3118 - accuracy: 0.8696 - val_loss: 0.3379 - val_accuracy: 0.8583\n",
            "Epoch 8/10\n",
            "391/391 [==============================] - 19s 46ms/step - loss: 0.3079 - accuracy: 0.8726 - val_loss: 0.3403 - val_accuracy: 0.8547\n",
            "Epoch 9/10\n",
            "391/391 [==============================] - 18s 45ms/step - loss: 0.3048 - accuracy: 0.8733 - val_loss: 0.3288 - val_accuracy: 0.8542\n",
            "Epoch 10/10\n",
            "391/391 [==============================] - 18s 46ms/step - loss: 0.3039 - accuracy: 0.8732 - val_loss: 0.3267 - val_accuracy: 0.8562\n"
          ]
        }
      ],
      "source": [
        "# 학습 진행\n",
        "history = model.fit(train_dataset, epochs=10,\n",
        "                    validation_data=test_dataset,\n",
        "                    validation_steps=30)"
      ]
    },
    {
      "cell_type": "code",
      "execution_count": 49,
      "metadata": {
        "id": "OKGvrNfqqYS9",
        "colab": {
          "base_uri": "https://localhost:8080/"
        },
        "outputId": "0b9aebb9-9250-46b9-eb17-ca6a67ad0034"
      },
      "outputs": [
        {
          "output_type": "stream",
          "name": "stdout",
          "text": [
            "391/391 [==============================] - 12s 29ms/step - loss: 0.3173 - accuracy: 0.8601\n",
            "Test Loss: 0.31730416417121887\n",
            "Test Accuracy: 0.8601199984550476\n"
          ]
        }
      ],
      "source": [
        "# 모델 실행 결과\n",
        "test_loss, test_acc = model.evaluate(test_dataset)\n",
        "\n",
        "print('Test Loss:', test_loss)\n",
        "print('Test Accuracy:', test_acc)"
      ]
    },
    {
      "cell_type": "markdown",
      "source": [
        "실행 결과  \n",
        "Test Loss: 0.31730416417121887  \n",
        "Test Accuracy: 0.8601199984550476"
      ],
      "metadata": {
        "id": "sZVSGK7Ep10g"
      }
    },
    {
      "cell_type": "code",
      "execution_count": null,
      "metadata": {
        "id": "OA0-Rp9tqaU6"
      },
      "outputs": [],
      "source": [
        "plt.figure(figsize=(16, 8))\n",
        "plt.subplot(1, 2, 1)\n",
        "plot_graphs(history, 'accuracy')\n",
        "plt.ylim(None, 1)\n",
        "plt.subplot(1, 2, 2)\n",
        "plot_graphs(history, 'loss')\n",
        "plt.ylim(0, None)"
      ]
    },
    {
      "cell_type": "markdown",
      "source": [
        "실행결과  \n",
        "(0.0, 0.696526862680912)  \n",
        "\n",
        "![image.png](data:image/png;base64,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)"
      ],
      "metadata": {
        "id": "Gnrn5vqi5lL7"
      }
    },
    {
      "cell_type": "code",
      "execution_count": 51,
      "metadata": {
        "id": "6OU0vn46qapS",
        "colab": {
          "base_uri": "https://localhost:8080/"
        },
        "outputId": "ff32016d-d44a-48f0-c3ba-59211dfd7973"
      },
      "outputs": [
        {
          "output_type": "stream",
          "name": "stdout",
          "text": [
            "[[0.5182748]]\n"
          ]
        }
      ],
      "source": [
        "sample_text = ('The movie was cool. The animation and the graphics '\n",
        "               'were out of this world. I would recommend this movie.')\n",
        "predictions = model.predict(np.array([sample_text]))\n",
        "print(predictions)"
      ]
    },
    {
      "cell_type": "markdown",
      "source": [
        "새 문장에 대한 예측 실행 결과를 보면, predictions이 0 이상이면 긍정이고 그렇지 않으면 부정이다.  \n",
        "\n",
        "넣은 data(sample_text)가 읽어봤을 때 긍정적인 내용이므로 0 이상의 결과가 나와야 한다.\n",
        "\n",
        "\n",
        "---\n",
        "\n",
        "\n",
        "\n",
        "실행결과 => [[0.5182748]]  \n",
        "실행결과가 0 이상으로 잘 나오는 것을 확인할 수 있다."
      ],
      "metadata": {
        "id": "iEheVXpsqRRJ"
      }
    }
  ],
  "metadata": {
    "accelerator": "GPU",
    "colab": {
      "collapsed_sections": [],
      "name": "HW3.ipynb",
      "provenance": []
    },
    "kernelspec": {
      "display_name": "Python 3",
      "name": "python3"
    },
    "language_info": {
      "name": "python"
    }
  },
  "nbformat": 4,
  "nbformat_minor": 0
}