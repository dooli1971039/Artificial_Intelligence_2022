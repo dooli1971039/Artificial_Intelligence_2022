{
  "cells": [
    {
      "cell_type": "markdown",
      "metadata": {
        "id": "JJeY52mkwqe5"
      },
      "source": [
        "### 2022-1 Artificial Intelligence (01)\n",
        "## Live Session #1-3: MLP using Tensorflow Keras API\n",
        "---\n",
        "Copyright (c) Prof. Jaehyeong Sim \n",
        "\n",
        "Department of Computer Science and Engineering\n",
        "\n",
        "Ewha Womans University"
      ]
    },
    {
      "cell_type": "code",
      "execution_count": 1,
      "metadata": {
        "id": "sMO8NP2IWX8y"
      },
      "outputs": [],
      "source": [
        "import numpy as np\n",
        "import tensorflow as tf\n",
        "\n",
        "model = tf.keras.Sequential([\n",
        "    tf.keras.layers.Dense(3, activation='tanh'),\n",
        "    tf.keras.layers.Dense(1, activation='sigmoid')\n",
        "])"
      ]
    },
    {
      "cell_type": "code",
      "execution_count": 2,
      "metadata": {
        "id": "qN4tUkGIbnTk"
      },
      "outputs": [],
      "source": [
        "#이게 수업 때 쓴거\n",
        "model.compile(optimizer='SGD',loss='MeanSquaredError')"
      ]
    },
    {
      "cell_type": "code",
      "execution_count": 3,
      "metadata": {
        "id": "zkdFOOJcYY0h"
      },
      "outputs": [],
      "source": [
        "# sgd = tf.keras.optimizers.SGD(learning_rate=0.01)\n",
        "# model.compile(optimizer=sgd, loss=tf.keras.losses.BinaryCrossentropy(), metrics=['accuracy'])"
      ]
    },
    {
      "cell_type": "code",
      "execution_count": 4,
      "metadata": {
        "id": "_tVQWwzeZBGE"
      },
      "outputs": [],
      "source": [
        "X = np.array([[0, 0], [0, 1], [1, 0], [1, 1]])\n",
        "y = np.array([0.0, 1.0, 1.0, 0.0])"
      ]
    },
    {
      "cell_type": "code",
      "execution_count": 5,
      "metadata": {
        "colab": {
          "base_uri": "https://localhost:8080/"
        },
        "id": "-Cn4IlkFZFCF",
        "outputId": "e1e0221c-ee8f-4cf6-d11e-1c942db4d6f2"
      },
      "outputs": [
        {
          "data": {
            "text/plain": [
              "<keras.callbacks.History at 0x7ff25dd11890>"
            ]
          },
          "execution_count": 5,
          "metadata": {},
          "output_type": "execute_result"
        }
      ],
      "source": [
        "model.fit(X, y, epochs=10000, verbose=0)"
      ]
    },
    {
      "cell_type": "code",
      "execution_count": 6,
      "metadata": {
        "colab": {
          "base_uri": "https://localhost:8080/"
        },
        "id": "XhplkZv5cEjh",
        "outputId": "0fd91cdf-1a7b-441a-9c3c-dd075bc9e454"
      },
      "outputs": [
        {
          "name": "stdout",
          "output_type": "stream",
          "text": [
            "[[0.44191667]\n",
            " [0.4775616 ]\n",
            " [0.5828134 ]\n",
            " [0.5197742 ]]\n"
          ]
        }
      ],
      "source": [
        "predicted = model.predict(X)\n",
        "print(predicted)\n",
        "#0.5 기준으로 하면 0 1 1 0 이 나오므로 학습이 잘 되었다"
      ]
    },
    {
      "cell_type": "code",
      "execution_count": 7,
      "metadata": {
        "colab": {
          "base_uri": "https://localhost:8080/"
        },
        "id": "TECC4cLKdiHs",
        "outputId": "3c6477f6-8f49-4c4a-d71d-772f0d0cf7ce"
      },
      "outputs": [
        {
          "name": "stdout",
          "output_type": "stream",
          "text": [
            "Model: \"sequential\"\n",
            "_________________________________________________________________\n",
            " Layer (type)                Output Shape              Param #   \n",
            "=================================================================\n",
            " dense (Dense)               (None, 3)                 9         \n",
            "                                                                 \n",
            " dense_1 (Dense)             (None, 1)                 4         \n",
            "                                                                 \n",
            "=================================================================\n",
            "Total params: 13\n",
            "Trainable params: 13\n",
            "Non-trainable params: 0\n",
            "_________________________________________________________________\n"
          ]
        }
      ],
      "source": [
        "model.summary()"
      ]
    }
  ],
  "metadata": {
    "colab": {
      "collapsed_sections": [],
      "name": "1-3.ipynb",
      "provenance": []
    },
    "kernelspec": {
      "display_name": "Python 3",
      "name": "python3"
    },
    "language_info": {
      "name": "python"
    }
  },
  "nbformat": 4,
  "nbformat_minor": 0
}
